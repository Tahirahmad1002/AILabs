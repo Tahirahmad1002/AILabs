{
  "nbformat": 4,
  "nbformat_minor": 0,
  "metadata": {
    "colab": {
      "provenance": [],
      "toc_visible": true
    },
    "kernelspec": {
      "name": "python3",
      "display_name": "Python 3"
    },
    "language_info": {
      "name": "python"
    }
  },
  "cells": [
    {
      "cell_type": "code",
      "execution_count": null,
      "metadata": {
        "id": "nK2so8w16HpF"
      },
      "outputs": [],
      "source": []
    },
    {
      "cell_type": "markdown",
      "source": [
        "# **Task1**"
      ],
      "metadata": {
        "id": "m-DdtyiX9A7V"
      }
    },
    {
      "cell_type": "code",
      "source": [
        "# TREE Example: BFS and DFS using numbers\n",
        "\n",
        "tree = {\n",
        "    1: [2, 3],\n",
        "    2: [4, 5],\n",
        "    3: [6, 7],\n",
        "    4: [],\n",
        "    5: [],\n",
        "    6: [],\n",
        "    7: []\n",
        "}\n",
        "\n",
        "# Breadth First Search (BFS)\n",
        "def bfs_tree(start):\n",
        "    visited = []\n",
        "    queue = [start]\n",
        "\n",
        "    while queue:\n",
        "        node = queue.pop(0)\n",
        "        if node not in visited:\n",
        "            visited.append(node)\n",
        "            queue.extend(tree[node])\n",
        "    return visited\n",
        "\n",
        "# Depth First Search (DFS)\n",
        "def dfs_tree(start, visited=None):\n",
        "    if visited is None:\n",
        "        visited = []\n",
        "    visited.append(start)\n",
        "    for neighbor in tree[start]:\n",
        "        if neighbor not in visited:\n",
        "            dfs_tree(neighbor, visited)\n",
        "    return visited\n",
        "\n",
        "print(\"BFS (Tree):\", bfs_tree(1))\n",
        "print(\"DFS (Tree):\", dfs_tree(1))\n",
        "\n"
      ],
      "metadata": {
        "colab": {
          "base_uri": "https://localhost:8080/"
        },
        "id": "MkgwrVqt9Gu1",
        "outputId": "e81973d9-3c97-42a5-b2c0-956d83ccf79e"
      },
      "execution_count": 2,
      "outputs": [
        {
          "output_type": "stream",
          "name": "stdout",
          "text": [
            "BFS (Tree): [1, 2, 3, 4, 5, 6, 7]\n",
            "DFS (Tree): [1, 2, 4, 5, 3, 6, 7]\n"
          ]
        }
      ]
    },
    {
      "cell_type": "code",
      "source": [
        "# GRAPH Example: BFS and DFS using numbers\n",
        "\n",
        "graph = {\n",
        "    1: [2, 3],\n",
        "    2: [1, 3, 4],\n",
        "    3: [1, 2, 5],\n",
        "    4: [2, 5],\n",
        "    5: [3, 4]\n",
        "}\n",
        "\n",
        "# Breadth First Search (BFS)\n",
        "def bfs_graph(start):\n",
        "    visited = []\n",
        "    queue = [start]\n",
        "\n",
        "    while queue:\n",
        "        node = queue.pop(0)\n",
        "        if node not in visited:\n",
        "            visited.append(node)\n",
        "            queue.extend(graph[node])\n",
        "    return visited\n",
        "\n",
        "# Depth First Search (DFS)\n",
        "def dfs_graph(start, visited=None):\n",
        "    if visited is None:\n",
        "        visited = []\n",
        "    visited.append(start)\n",
        "    for neighbor in graph[start]:\n",
        "        if neighbor not in visited:\n",
        "            dfs_graph(neighbor, visited)\n",
        "    return visited\n",
        "\n",
        "print(\"BFS (Graph):\", bfs_graph(1))\n",
        "print(\"DFS (Graph):\", dfs_graph(1))\n"
      ],
      "metadata": {
        "colab": {
          "base_uri": "https://localhost:8080/"
        },
        "id": "bpmVy5RKKrvS",
        "outputId": "bc48153b-32b4-40ad-e913-f0dd4f2dd3ca"
      },
      "execution_count": 16,
      "outputs": [
        {
          "output_type": "stream",
          "name": "stdout",
          "text": [
            "BFS (Graph): [1, 2, 3, 4, 5]\n",
            "DFS (Graph): [1, 2, 3, 5, 4]\n"
          ]
        }
      ]
    },
    {
      "cell_type": "markdown",
      "source": [],
      "metadata": {
        "id": "6KvAhSxfBo6s"
      }
    },
    {
      "cell_type": "markdown",
      "source": [
        "# **Task2**"
      ],
      "metadata": {
        "id": "heZ7U1tkBrZJ"
      }
    },
    {
      "cell_type": "code",
      "source": [
        "# Task #2: Dictionary Operations\n",
        "# Creating a dictionary to store student information\n",
        "\n",
        "student = {\n",
        "    \"name\": \"Tahir Ahmad\",\n",
        "    \"age\": 20,\n",
        "    \"roll_number\": \"SP23-BSE-098\",\n",
        "    \"grade\": \"A\"\n",
        "}\n",
        "\n",
        "print(\"Original Dictionary:\")\n",
        "print(student)\n"
      ],
      "metadata": {
        "colab": {
          "base_uri": "https://localhost:8080/"
        },
        "id": "XBwRqRWsCfbI",
        "outputId": "bcf93d79-5ab2-4211-8c70-e8ac615d82ec"
      },
      "execution_count": 3,
      "outputs": [
        {
          "output_type": "stream",
          "name": "stdout",
          "text": [
            "Original Dictionary:\n",
            "{'name': 'Tahir Ahmad', 'age': 20, 'roll_number': 'SP23-BSE-098', 'grade': 'A'}\n"
          ]
        }
      ]
    },
    {
      "cell_type": "code",
      "source": [
        "# 1. Print all keys and values\n",
        "\n",
        "print(\"\\nAll Keys:\")\n",
        "print(student.keys())\n",
        "\n",
        "print(\"\\nAll Values:\")\n",
        "print(student.values())\n"
      ],
      "metadata": {
        "colab": {
          "base_uri": "https://localhost:8080/"
        },
        "id": "vDKDvzxTCi5B",
        "outputId": "f3fc1da9-76fa-4305-99fc-fa93e634de77"
      },
      "execution_count": 4,
      "outputs": [
        {
          "output_type": "stream",
          "name": "stdout",
          "text": [
            "\n",
            "All Keys:\n",
            "dict_keys(['name', 'age', 'roll_number', 'grade'])\n",
            "\n",
            "All Values:\n",
            "dict_values(['Tahir Ahmad', 20, 'SP23-BSE-098', 'A'])\n"
          ]
        }
      ]
    },
    {
      "cell_type": "code",
      "source": [
        "# 2. Update the grade of the student\n",
        "student[\"grade\"] = \"A\"\n",
        "print(\"\\nUpdated Grade:\")\n",
        "print(student)\n"
      ],
      "metadata": {
        "colab": {
          "base_uri": "https://localhost:8080/"
        },
        "id": "TrHI3H32CpXA",
        "outputId": "11026b14-3b62-4c40-c6e6-13f3715ad317"
      },
      "execution_count": 5,
      "outputs": [
        {
          "output_type": "stream",
          "name": "stdout",
          "text": [
            "\n",
            "Updated Grade:\n",
            "{'name': 'Tahir Ahmad', 'age': 20, 'roll_number': 'SP23-BSE-098', 'grade': 'A'}\n"
          ]
        }
      ]
    },
    {
      "cell_type": "code",
      "source": [
        "# 3. Add a new key 'email' with a value\n",
        "student[\"email\"] = \"Tahirahmad1002@gmail.com\"\n",
        "print(\"\\nAdded Email:\")\n",
        "print(student)\n"
      ],
      "metadata": {
        "colab": {
          "base_uri": "https://localhost:8080/"
        },
        "id": "v6O_BYZFCtUC",
        "outputId": "749d87e9-832f-4dcd-bc97-e8215527f2e7"
      },
      "execution_count": 6,
      "outputs": [
        {
          "output_type": "stream",
          "name": "stdout",
          "text": [
            "\n",
            "Added Email:\n",
            "{'name': 'Tahir Ahmad', 'age': 20, 'roll_number': 'SP23-BSE-098', 'grade': 'A', 'email': 'Tahirahmad1002@gmail.com'}\n"
          ]
        }
      ]
    },
    {
      "cell_type": "code",
      "source": [
        "# 4. Delete the 'roll_number' key\n",
        "del student[\"roll_number\"]\n",
        "print(\"\\nAfter Deleting roll_number:\")\n",
        "print(student)\n"
      ],
      "metadata": {
        "colab": {
          "base_uri": "https://localhost:8080/"
        },
        "id": "_PwrgEhFCxg4",
        "outputId": "3683d0ec-df49-4bee-e177-022aeda737b2"
      },
      "execution_count": 7,
      "outputs": [
        {
          "output_type": "stream",
          "name": "stdout",
          "text": [
            "\n",
            "After Deleting roll_number:\n",
            "{'name': 'Tahir Ahmad', 'age': 20, 'grade': 'A', 'email': 'Tahirahmad1002@gmail.com'}\n"
          ]
        }
      ]
    },
    {
      "cell_type": "markdown",
      "source": [],
      "metadata": {
        "id": "X8c9EaQTCeeU"
      }
    },
    {
      "cell_type": "markdown",
      "source": [
        "# **Task3**"
      ],
      "metadata": {
        "id": "jDTcOFxuBu0q"
      }
    },
    {
      "cell_type": "code",
      "source": [
        "# Task #3: Simple Line Plot using Matplotlib\n",
        "\n",
        "import matplotlib.pyplot as plt\n",
        "\n",
        "# Data for the plot\n",
        "X = [1, 2, 3, 4, 5]\n",
        "Y = [1, 4, 8, 9, 8]\n",
        "\n",
        "# Create a simple line plot\n",
        "plt.plot(X, Y)\n",
        "\n",
        "# Add title and axis labels\n",
        "plt.title(\"Simple Line Plot\")\n",
        "plt.xlabel(\"X-Axis\")\n",
        "plt.ylabel(\"Y-Axis\")\n",
        "\n",
        "# Add grid lines\n",
        "plt.grid(True)\n",
        "\n",
        "# Display the plot\n",
        "plt.show()\n"
      ],
      "metadata": {
        "colab": {
          "base_uri": "https://localhost:8080/",
          "height": 472
        },
        "id": "LrQYm8xUDhVf",
        "outputId": "f564d9ac-5e0e-46d7-c496-6dea85a4a19c"
      },
      "execution_count": 9,
      "outputs": [
        {
          "output_type": "display_data",
          "data": {
            "text/plain": [
              "<Figure size 640x480 with 1 Axes>"
            ],
            "image/png": "[encoded data removed]"
          },
          "metadata": {}
        }
      ]
    },
    {
      "cell_type": "markdown",
      "source": [
        "## **Task4**"
      ],
      "metadata": {
        "id": "sxdZqV_3Bwz3"
      }
    },
    {
      "cell_type": "code",
      "source": [
        "import time\n",
        "import sys\n",
        "from collections import deque\n"
      ],
      "metadata": {
        "id": "dHRSc0E0E3Zw"
      },
      "execution_count": 10,
      "outputs": []
    },
    {
      "cell_type": "code",
      "source": [
        "# BFS for Water Jug Problem\n",
        "\n",
        "def bfs_water_jug(maxA, maxB, target):\n",
        "    visited = set()\n",
        "    queue = deque()\n",
        "    queue.append((0, 0))  # start with both jugs empty\n",
        "    parent = {}\n",
        "\n",
        "    while queue:\n",
        "        state = queue.popleft()\n",
        "        x, y = state\n",
        "\n",
        "        # Goal reached\n",
        "        if x == target or y == target:\n",
        "            path = []\n",
        "            while state:\n",
        "                path.append(state)\n",
        "                state = parent.get(state)\n",
        "            path.reverse()\n",
        "            return path\n",
        "\n",
        "        if state in visited:\n",
        "            continue\n",
        "\n",
        "        visited.add(state)\n",
        "\n",
        "        # Possible next states (6 standard actions)\n",
        "        next_states = [\n",
        "            (maxA, y),        # fill A\n",
        "            (x, maxB),        # fill B\n",
        "            (0, y),           # empty A\n",
        "            (x, 0),           # empty B\n",
        "            (x - min(x, maxB - y), y + min(x, maxB - y)),  # pour A -> B\n",
        "            (x + min(y, maxA - x), y - min(y, maxA - x))   # pour B -> A\n",
        "        ]\n",
        "\n",
        "        for next_state in next_states:\n",
        "            if next_state not in visited:\n",
        "                parent[next_state] = state\n",
        "                queue.append(next_state)\n",
        "\n",
        "    return None\n"
      ],
      "metadata": {
        "id": "MGG_Q6EAE9sf"
      },
      "execution_count": 11,
      "outputs": []
    },
    {
      "cell_type": "code",
      "source": [
        "# DFS for Water Jug Problem\n",
        "\n",
        "def dfs_water_jug(maxA, maxB, target):\n",
        "    visited = set()\n",
        "    stack = [(0, 0)]\n",
        "    parent = {}\n",
        "\n",
        "    while stack:\n",
        "        state = stack.pop()\n",
        "        x, y = state\n",
        "\n",
        "        # Goal reached\n",
        "        if x == target or y == target:\n",
        "            path = []\n",
        "            while state:\n",
        "                path.append(state)\n",
        "                state = parent.get(state)\n",
        "            path.reverse()\n",
        "            return path\n",
        "\n",
        "        if state in visited:\n",
        "            continue\n",
        "\n",
        "        visited.add(state)\n",
        "\n",
        "        next_states = [\n",
        "            (maxA, y),\n",
        "            (x, maxB),\n",
        "            (0, y),\n",
        "            (x, 0),\n",
        "            (x - min(x, maxB - y), y + min(x, maxB - y)),\n",
        "            (x + min(y, maxA - x), y - min(y, maxA - x))\n",
        "        ]\n",
        "\n",
        "        for next_state in next_states:\n",
        "            if next_state not in visited:\n",
        "                parent[next_state] = state\n",
        "                stack.append(next_state)\n",
        "\n",
        "    return None\n"
      ],
      "metadata": {
        "id": "7oZp5O2KFAzx"
      },
      "execution_count": 12,
      "outputs": []
    },
    {
      "cell_type": "code",
      "source": [
        "import tracemalloc  # to measure memory usage\n",
        "\n",
        "maxA, maxB, target = 7, 5, 6\n",
        "\n",
        "\n",
        "# --- BFS ---\n",
        "start_time = time.time()\n",
        "tracemalloc.start()\n",
        "bfs_path = bfs_water_jug(maxA, maxB, target)\n",
        "current, peak_bfs = tracemalloc.get_traced_memory()\n",
        "tracemalloc.stop()\n",
        "bfs_time = time.time() - start_time\n",
        "\n",
        "# --- DFS ---\n",
        "start_time = time.time()\n",
        "tracemalloc.start()\n",
        "dfs_path = dfs_water_jug(maxA, maxB, target)\n",
        "current, peak_dfs = tracemalloc.get_traced_memory()\n",
        "tracemalloc.stop()\n",
        "dfs_time = time.time() - start_time\n",
        "\n",
        "# --- Comparison Results ---\n",
        "print(\"=== BFS Results ===\")\n",
        "print(\"Path:\", bfs_path)\n",
        "print(\"Steps:\", len(bfs_path))\n",
        "print(f\"Time Taken: {bfs_time:.6f} sec\")\n",
        "print(f\"Memory Used: {peak_bfs / 1024:.2f} KB\")\n",
        "\n",
        "print(\"\\n=== DFS Results ===\")\n",
        "print(\"Path:\", dfs_path)\n",
        "print(\"Steps:\", len(dfs_path))\n",
        "print(f\"Time Taken: {dfs_time:.6f} sec\")\n",
        "print(f\"Memory Used: {peak_dfs / 1024:.2f} KB\")\n"
      ],
      "metadata": {
        "colab": {
          "base_uri": "https://localhost:8080/"
        },
        "id": "Cltvo1mcFEn0",
        "outputId": "c1b24491-c228-42aa-80ee-780c4eff8c0b"
      },
      "execution_count": 14,
      "outputs": [
        {
          "output_type": "stream",
          "name": "stdout",
          "text": [
            "=== BFS Results ===\n",
            "Path: [(0, 0), (7, 0), (2, 5), (2, 0), (0, 2), (7, 2), (4, 5), (4, 0), (0, 4), (7, 4), (6, 5)]\n",
            "Steps: 11\n",
            "Time Taken: 0.001621 sec\n",
            "Memory Used: 19.16 KB\n",
            "\n",
            "=== DFS Results ===\n",
            "Path: [(0, 0), (0, 5), (5, 0), (5, 5), (7, 3), (7, 0), (2, 5), (2, 0), (0, 2), (7, 2), (4, 5), (4, 0), (0, 4), (7, 4), (6, 5)]\n",
            "Steps: 15\n",
            "Time Taken: 0.001279 sec\n",
            "Memory Used: 19.16 KB\n"
          ]
        }
      ]
    },
    {
      "cell_type": "markdown",
      "source": [
        "# **Task5**"
      ],
      "metadata": {
        "id": "Q-qXjA71BzPF"
      }
    },
    {
      "cell_type": "code",
      "source": [
        "# A* on the provided 6x6 maze (4-neighbour moves)\n",
        "import heapq\n",
        "\n",
        "walls = {(1,0),(1,1),(3,1),(4,1),(5,1),(2,3),(3,2),(4,4),(0,5),(1,5),(3,5)}\n",
        "letters = {\n",
        "    (0,0):'A', (1,0):None, (2,0):'B', (3,0):'C', (4,0):'D', (5,0):'E',\n",
        "    (0,1):'F', (1,1):None, (2,1):'G', (3,1):None, (4,1):None, (5,1):None,\n",
        "    (0,2):'H', (1,2):'I', (2,2):'J', (3,2):None, (4,2):'K', (5,2):'L',\n",
        "    (0,3):'M', (1,3):'N', (2,3):None, (3,3):'O', (4,3):'P', (5,3):'Q',\n",
        "    (0,4):'R', (1,4):'S', (2,4):'T', (3,4):'U', (4,4):None, (5,4):'V',\n",
        "    (0,5):None,(1,5):None,(2,5):'W',(3,5):None,(4,5):'X',(5,5):'Y'\n",
        "}\n",
        "start = (0,0)\n",
        "goal = (5,5)\n",
        "width, height = 6,6\n",
        "\n",
        "def heuristic(a,b):\n",
        "    return abs(a[0]-b[0]) + abs(a[1]-b[1])\n",
        "\n",
        "def neighbors(node):\n",
        "    x,y = node\n",
        "    for dx,dy in [(1,0),(-1,0),(0,1),(0,-1)]:\n",
        "        nx,ny = x+dx, y+dy\n",
        "        if 0 <= nx < width and 0 <= ny < height and (nx,ny) not in walls:\n",
        "            yield (nx,ny)\n",
        "\n",
        "def a_star(start, goal):\n",
        "    open_set = []\n",
        "    heapq.heappush(open_set, (heuristic(start,goal), 0, start))\n",
        "    came_from = {}\n",
        "    g_score = {start: 0}\n",
        "    closed = set()\n",
        "    while open_set:\n",
        "        f, g, current = heapq.heappop(open_set)\n",
        "        if current == goal:\n",
        "            path = []\n",
        "            node = current\n",
        "            while node in came_from:\n",
        "                path.append(node)\n",
        "                node = came_from[node]\n",
        "            path.append(start)\n",
        "            path.reverse()\n",
        "            return path\n",
        "        if current in closed:\n",
        "            continue\n",
        "        closed.add(current)\n",
        "        for nb in neighbors(current):\n",
        "            tentative_g = g_score[current] + 1\n",
        "            if tentative_g < g_score.get(nb, 1e9):\n",
        "                came_from[nb] = current\n",
        "                g_score[nb] = tentative_g\n",
        "                heapq.heappush(open_set, (tentative_g + heuristic(nb, goal), tentative_g, nb))\n",
        "    return None\n",
        "\n",
        "path = a_star(start, goal)\n",
        "path_letters = [letters.get(p, '?') if letters.get(p, None) is not None else f\"({p[0]},{p[1]})\" for p in path] if path else None\n",
        "\n",
        "print(\"Path (coords):\", path)\n",
        "print(\"Path (letters):\", \" -> \".join(path_letters))\n"
      ],
      "metadata": {
        "colab": {
          "base_uri": "https://localhost:8080/"
        },
        "id": "I7Wykj-wI9wj",
        "outputId": "a2e382c2-c856-4c19-b3da-815b28daedac"
      },
      "execution_count": 15,
      "outputs": [
        {
          "output_type": "stream",
          "name": "stdout",
          "text": [
            "Path (coords): [(0, 0), (0, 1), (0, 2), (0, 3), (0, 4), (1, 4), (2, 4), (3, 4), (3, 3), (4, 3), (5, 3), (5, 4), (5, 5)]\n",
            "Path (letters): A -> F -> H -> M -> R -> S -> T -> U -> O -> P -> Q -> V -> Y\n"
          ]
        }
      ]
    }
  ]
}