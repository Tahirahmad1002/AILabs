{
  "nbformat": 4,
  "nbformat_minor": 0,
  "metadata": {
    "colab": {
      "provenance": [],
      "toc_visible": true
    },
    "kernelspec": {
      "name": "python3",
      "display_name": "Python 3"
    },
    "language_info": {
      "name": "python"
    }
  },
  "cells": [
    {
      "cell_type": "code",
      "execution_count": null,
      "metadata": {
        "id": "sqpEl5Ul4jux"
      },
      "outputs": [],
      "source": []
    },
    {
      "cell_type": "markdown",
      "source": [],
      "metadata": {
        "id": "ngEvLVlw4srY"
      }
    },
    {
      "cell_type": "markdown",
      "source": [
        "LIST"
      ],
      "metadata": {
        "id": "-Dwmba7A4wiP"
      }
    },
    {
      "cell_type": "markdown",
      "source": [
        "# **LIST**"
      ],
      "metadata": {
        "id": "tY7GGFIB5j0-"
      }
    },
    {
      "cell_type": "code",
      "source": [
        "!pip install numpy\n",
        "#creating a list of 10 integers\n",
        "numbers = [1,2,12,4,5,6,7,8,9,10]\n",
        "print('Original List',numbers)\n",
        "# sum,max,min\n",
        "print('Sum',sum(numbers))\n",
        "print('Max',max(numbers))\n",
        "print('Min',min(numbers))\n",
        "#Adding number to the list\n",
        "numbers.append(11)\n",
        "#Removing number from the list\n",
        "numbers.remove(5)\n",
        "print('Updated List',numbers)\n",
        "#Sort ascending and descending\n",
        "print('Ascending',sorted(numbers))\n",
        "print('Descending',sorted(numbers,reverse=True))\n",
        "\n"
      ],
      "metadata": {
        "colab": {
          "base_uri": "https://localhost:8080/"
        },
        "id": "kOgCKoBYAPpb",
        "outputId": "b1164baa-2178-43ef-b00a-8726ec3657df"
      },
      "execution_count": null,
      "outputs": [
        {
          "output_type": "stream",
          "name": "stdout",
          "text": [
            "Requirement already satisfied: numpy in /usr/local/lib/python3.12/dist-packages (2.0.2)\n",
            "Original List [1, 2, 12, 4, 5, 6, 7, 8, 9, 10]\n",
            "Sum 64\n",
            "Max 12\n",
            "Min 1\n",
            "Updated List [1, 2, 12, 4, 6, 7, 8, 9, 10, 11]\n",
            "Ascending [1, 2, 4, 6, 7, 8, 9, 10, 11, 12]\n",
            "Descending [12, 11, 10, 9, 8, 7, 6, 4, 2, 1]\n"
          ]
        }
      ]
    },
    {
      "cell_type": "markdown",
      "source": [
        "# **Tuples**"
      ],
      "metadata": {
        "id": "XmoBJQux5sPH"
      }
    },
    {
      "cell_type": "code",
      "source": [
        "# creating a tuple with 5 strings\n",
        "fruits = ('apple','banana','orange','grapes','mango')\n",
        "print(fruits)\n",
        "#printing the second last and last index\n",
        "print('Second Element :',fruits[1])\n",
        "print('Last Element :',fruits[-1])\n",
        "#try to modify so give error or not\n",
        "#fruits[1] = 'kiwi'\n",
        "\n",
        "#now add element to tuple through converting it to list and than back to tuple\n",
        "fruits = list(fruits)\n",
        "fruits.append('kiwi')\n",
        "fruits = tuple(fruits)\n",
        "print(fruits)"
      ],
      "metadata": {
        "colab": {
          "base_uri": "https://localhost:8080/"
        },
        "id": "PlJbfBuNFJX5",
        "outputId": "2244dadf-0e30-4fa8-a26e-85aa5f8e4817"
      },
      "execution_count": 9,
      "outputs": [
        {
          "output_type": "stream",
          "name": "stdout",
          "text": [
            "('apple', 'banana', 'orange', 'grapes', 'mango')\n",
            "Second Element : banana\n",
            "Last Element : mango\n",
            "('apple', 'banana', 'orange', 'grapes', 'mango', 'kiwi')\n"
          ]
        }
      ]
    },
    {
      "cell_type": "markdown",
      "source": [
        "# **Dictionary**"
      ],
      "metadata": {
        "id": "XMpUUH-b6SsB"
      }
    },
    {
      "cell_type": "code",
      "source": [
        "#creating 5 keys-values of studentnames and marks\n",
        "student_marks = {\n",
        "    'Alice': 85,\n",
        "    'Bob': 92,\n",
        "    'Charlie': 78,\n",
        "    'David': 95,\n",
        "    'Eve': 88\n",
        "}\n",
        "\n",
        "print(student_marks)\n",
        "#print value and keys\n",
        "print('Keys :',student_marks.keys())\n",
        "print('Updated Dictionary',student_marks)\n"
      ],
      "metadata": {
        "colab": {
          "base_uri": "https://localhost:8080/"
        },
        "id": "QFHv3hdSJBjz",
        "outputId": "7ab8ff4a-4bb8-417e-8bc1-7e8690821355"
      },
      "execution_count": 12,
      "outputs": [
        {
          "output_type": "stream",
          "name": "stdout",
          "text": [
            "{'Alice': 85, 'Bob': 92, 'Charlie': 78, 'David': 95, 'Eve': 88}\n",
            "Keys : dict_keys(['Alice', 'Bob', 'Charlie', 'David', 'Eve'])\n",
            "Updated Dictionary {'Alice': 85, 'Bob': 92, 'Charlie': 78, 'David': 95, 'Eve': 88}\n"
          ]
        }
      ]
    },
    {
      "cell_type": "markdown",
      "source": [
        "# **Numpy**"
      ],
      "metadata": {
        "id": "HIccitT76Xpk"
      }
    },
    {
      "cell_type": "markdown",
      "source": [],
      "metadata": {
        "id": "O89wHE4g6c_W"
      }
    },
    {
      "cell_type": "markdown",
      "source": [
        "# **Sets**"
      ],
      "metadata": {
        "id": "-9XH02h_6fkZ"
      }
    },
    {
      "cell_type": "code",
      "source": [
        "#creating two sets with some common and unique elements\n",
        "set1 = {1,2,3,4,5}\n",
        "set2 = {4,5,6,7,8}\n",
        "#union\n",
        "print('Union',set1.union(set2))\n",
        "#intersection\n",
        "print('Intersection',set1.intersection(set2))\n",
        "#diffrences\n",
        "print('Difference',set1 - set2)\n",
        "\n",
        "\n",
        "\n",
        "\n",
        "\n",
        "\n"
      ],
      "metadata": {
        "colab": {
          "base_uri": "https://localhost:8080/"
        },
        "id": "ijaJnFB1H9Ws",
        "outputId": "e509d7ab-e30b-425e-8624-3a5eba39f648"
      },
      "execution_count": 11,
      "outputs": [
        {
          "output_type": "stream",
          "name": "stdout",
          "text": [
            "Union {1, 2, 3, 4, 5, 6, 7, 8}\n",
            "Intersection {4, 5}\n",
            "Difference {1, 2, 3}\n"
          ]
        }
      ]
    },
    {
      "cell_type": "markdown",
      "source": [
        "# **Matplotlib**"
      ],
      "metadata": {
        "id": "N4Hzebtt6qBZ"
      }
    },
    {
      "cell_type": "markdown",
      "source": [],
      "metadata": {
        "id": "rG8ij2Qu6wcT"
      }
    }
  ]
}